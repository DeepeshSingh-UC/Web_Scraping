{
 "cells": [
  {
   "cell_type": "markdown",
   "metadata": {},
   "source": [
    "# Importing useful libraries for webscraping."
   ]
  },
  {
   "cell_type": "code",
   "execution_count": 2,
   "metadata": {},
   "outputs": [],
   "source": [
    "from urllib.request import urlopen as uReq\n",
    "from bs4 import BeautifulSoup as soup\n"
   ]
  },
  {
   "cell_type": "markdown",
   "metadata": {},
   "source": [
    "# Loading Document and Parsing"
   ]
  },
  {
   "cell_type": "markdown",
   "metadata": {},
   "source": [
    "Flipkart is the biggest online shopping plateform in India.Here I will compare the different Apple Watches available on a single html \n",
    "page of the website of Flipkart.The page contains 24 Apple Watches that i extracted here."
   ]
  },
  {
   "cell_type": "code",
   "execution_count": 3,
   "metadata": {},
   "outputs": [],
   "source": [
    "my_url = \"https://www.flipkart.com/search?q=apple+watch&as=on&as-show=on&otracker=AS_Query_OrganicAutoSuggest_5_10_na_na_na&otracker1=AS_Query_OrganicAutoSuggest_5_10_na_na_na&as-pos=5&as-type=RECENT&suggestionId=apple+watch&requestId=1d8b57ca-7c33-42a5-83d9-ef5a6bc9998e&as-searchtext=apple%20i%20wa\"\n"
   ]
  },
  {
   "cell_type": "code",
   "execution_count": 4,
   "metadata": {},
   "outputs": [
    {
     "name": "stdout",
     "output_type": "stream",
     "text": [
      "24\n"
     ]
    }
   ],
   "source": [
    "u_client = uReq(my_url)\n",
    "page_html = u_client.read()\n",
    "u_client.close()\n",
    "page_soup = soup(page_html, \"html.parser\")\n",
    "containers = page_soup.findAll(\"div\" , {\"class\" :\"_13oc-S\"})\n",
    "type(containers)\n",
    "print(len(containers))"
   ]
  },
  {
   "cell_type": "code",
   "execution_count": 5,
   "metadata": {},
   "outputs": [
    {
     "name": "stdout",
     "output_type": "stream",
     "text": [
      "<div class=\"_13oc-S\">\n",
      " <div data-id=\"SMWF94AYMNYHTYDJ\" style=\"width:100%\">\n",
      "  <div class=\"_2kHMtA\">\n",
      "   <a class=\"_1fQZEK\" href=\"/apple-watch-series-3-gps-42-mm-space-grey-aluminium-case-black-sport-band/p/itm91c560e722cdd?pid=SMWF94AYMNYHTYDJ&amp;lid=LSTSMWF94AYMNYHTYDJU9ZHY3&amp;marketplace=FLIPKART&amp;q=apple+watch&amp;store=ajy%2Fbuh&amp;spotlightTagId=BestvalueId_ajy%2Fbuh&amp;srno=s_1_1&amp;otracker=AS_Query_OrganicAutoSuggest_5_10_na_na_na&amp;otracker1=AS_Query_OrganicAutoSuggest_5_10_na_na_na&amp;fm=organic&amp;iid=a22bfec5-06c0-499b-a63d-21ab3dac47da.SMWF94AYMNYHTYDJ.SEARCH&amp;ppt=None&amp;ppn=None&amp;ssid=iuz5hjurxc0000001621124717236&amp;qH=ac1abc0e63e8442c\" rel=\"noopener noreferrer\" target=\"_blank\">\n",
      "    <div>\n",
      "    </div>\n",
      "    <div class=\"MIXNux\">\n",
      "     <div class=\"_2QcLo-\">\n",
      "      <div>\n",
      "       <div class=\"CXW8mj\" style=\"height:200px;width:200px\">\n",
      "        <img alt=\"APPLE Watch Series 3 GPS - 42 mm Space Grey Aluminium Case with Black Sport Band\" class=\"_396cs4 _3exPp9\" src=\"https://rukminim1.flixcart.com/image/312/312/jmi22kw0/smartwatch/y/d/j/mtf32hn-a-apple-original-imaf9ec8ssmfcuxf.jpeg?q=70\"/>\n",
      "       </div>\n",
      "      </div>\n",
      "     </div>\n",
      "     <div class=\"_3wLduG\">\n",
      "      <div class=\"_3PzNI-\">\n",
      "       <span class=\"f3A4_V\">\n",
      "        <label class=\"_2iDkf8\">\n",
      "         <input class=\"_30VH1S\" readonly=\"\" type=\"checkbox\"/>\n",
      "         <div class=\"_24_Dny\">\n",
      "         </div>\n",
      "        </label>\n",
      "       </span>\n",
      "       <label class=\"_6Up2sF\">\n",
      "        <span>\n",
      "         Add to Compare\n",
      "        </span>\n",
      "       </label>\n",
      "      </div>\n",
      "     </div>\n",
      "     <div class=\"_2hVSre _3nq8ih\">\n",
      "      <div class=\"_36FSn5\">\n",
      "       <svg class=\"_1l0elc\" height=\"16\" viewbox=\"0 0 20 16\" width=\"16\" xmlns=\"http://www.w3.org/2000/svg\">\n",
      "        <path class=\"eX72wL\" d=\"M8.695 16.682C4.06 12.382 1 9.536 1 6.065 1 3.219 3.178 1 5.95 1c1.566 0 3.069.746 4.05 1.915C10.981 1.745 12.484 1 14.05 1 16.822 1 19 3.22 19 6.065c0 3.471-3.06 6.316-7.695 10.617L10 17.897l-1.305-1.215z\" fill=\"#2874F0\" fill-rule=\"evenodd\" opacity=\".9\" stroke=\"#FFF\">\n",
      "        </path>\n",
      "       </svg>\n",
      "      </div>\n",
      "     </div>\n",
      "    </div>\n",
      "    <div class=\"_3pLy-c row\">\n",
      "     <div class=\"col col-7-12\">\n",
      "      <div class=\"_4rR01T\">\n",
      "       APPLE Watch Series 3 GPS - 42 mm Space Grey Aluminium Case with Black Sport Band\n",
      "      </div>\n",
      "      <div class=\"gUuXy-\">\n",
      "       <span class=\"_1lRcqv\" id=\"productRating_LSTSMWF94AYMNYHTYDJU9ZHY3_SMWF94AYMNYHTYDJ_\">\n",
      "        <div class=\"_3LWZlK\">\n",
      "         4.7\n",
      "         <img class=\"_1wB99o\" src=\"data:image/svg+xml;base64,PHN2ZyB4bWxucz0iaHR0cDovL3d3dy53My5vcmcvMjAwMC9zdmciIHdpZHRoPSIxMyIgaGVpZ2h0PSIxMiI+PHBhdGggZmlsbD0iI0ZGRiIgZD0iTTYuNSA5LjQzOWwtMy42NzQgMi4yMy45NC00LjI2LTMuMjEtMi44ODMgNC4yNTQtLjQwNEw2LjUuMTEybDEuNjkgNC4wMSA0LjI1NC40MDQtMy4yMSAyLjg4Mi45NCA0LjI2eiIvPjwvc3ZnPg==\"/>\n",
      "        </div>\n",
      "       </span>\n",
      "       <span class=\"_2_R_DZ\">\n",
      "        <span>\n",
      "         <span>\n",
      "          40,116 Ratings\n",
      "         </span>\n",
      "         <span class=\"_13vcmD\">\n",
      "          &amp;\n",
      "         </span>\n",
      "         <span>\n",
      "          3,779 Reviews\n",
      "         </span>\n",
      "        </span>\n",
      "       </span>\n",
      "      </div>\n",
      "      <div class=\"fMghEO\">\n",
      "       <ul class=\"_1xgFaf\">\n",
      "        <li class=\"rgWa7D\">\n",
      "         GPS and Altimeter\n",
      "        </li>\n",
      "        <li class=\"rgWa7D\">\n",
      "         Swimproof\n",
      "        </li>\n",
      "        <li class=\"rgWa7D\">\n",
      "         Voice Based Siri\n",
      "        </li>\n",
      "        <li class=\"rgWa7D\">\n",
      "         3 Activity Rings Tracking - Move, Exercise, Stand\n",
      "        </li>\n",
      "        <li class=\"rgWa7D\">\n",
      "         Smart Coaching\n",
      "        </li>\n",
      "        <li class=\"rgWa7D\">\n",
      "         Activity Sharing and Achievements\n",
      "        </li>\n",
      "        <li class=\"rgWa7D\">\n",
      "         Heart Rate Monitor\n",
      "        </li>\n",
      "        <li class=\"rgWa7D\">\n",
      "         Breathe App\n",
      "        </li>\n",
      "        <li class=\"rgWa7D\">\n",
      "         Notifications\n",
      "        </li>\n",
      "        <li class=\"rgWa7D\">\n",
      "         Touchscreen\n",
      "        </li>\n",
      "        <li class=\"rgWa7D\">\n",
      "         Notifier, Fitness &amp; Outdoor\n",
      "        </li>\n",
      "        <li class=\"rgWa7D\">\n",
      "         Battery Runtime: Upto 18 hrs\n",
      "        </li>\n",
      "        <li class=\"rgWa7D\">\n",
      "         1 Year Warranty\n",
      "        </li>\n",
      "       </ul>\n",
      "      </div>\n",
      "     </div>\n",
      "     <div class=\"col col-5-12 nlI3QM\">\n",
      "      <div class=\"_3tbKJL\">\n",
      "       <div class=\"_25b18c\">\n",
      "        <div class=\"_30jeq3 _1_WHN1\">\n",
      "         ₹23,900\n",
      "        </div>\n",
      "       </div>\n",
      "      </div>\n",
      "      <div class=\"_13J9qT\">\n",
      "       <img height=\"21\" src=\"//static-assets-web.flixcart.com/www/linchpin/fk-cp-zion/img/fa_62673a.png\"/>\n",
      "      </div>\n",
      "      <div class=\"_2ZdXDB\">\n",
      "       <div class=\"_3xFhiH\">\n",
      "        <div class=\"_2Tpdn3 _18hQoS\" style=\"color:#000000;font-size:12px;font-style:normal;font-weight:400\">\n",
      "         No Cost EMI\n",
      "        </div>\n",
      "       </div>\n",
      "      </div>\n",
      "     </div>\n",
      "    </div>\n",
      "   </a>\n",
      "  </div>\n",
      " </div>\n",
      "</div>\n"
     ]
    }
   ],
   "source": [
    "print(soup.prettify(containers[0]))"
   ]
  },
  {
   "cell_type": "markdown",
   "metadata": {},
   "source": [
    "# Extraction"
   ]
  },
  {
   "cell_type": "code",
   "execution_count": 6,
   "metadata": {},
   "outputs": [],
   "source": [
    "container = containers[0]"
   ]
  },
  {
   "cell_type": "code",
   "execution_count": 7,
   "metadata": {},
   "outputs": [
    {
     "name": "stdout",
     "output_type": "stream",
     "text": [
      "APPLE Watch Series 3 GPS - 42 mm Space Grey Aluminium Case with Black Sport Band\n"
     ]
    }
   ],
   "source": [
    "print(container.div.img[\"alt\"])"
   ]
  },
  {
   "cell_type": "code",
   "execution_count": 8,
   "metadata": {},
   "outputs": [
    {
     "name": "stdout",
     "output_type": "stream",
     "text": [
      "₹23,900\n"
     ]
    }
   ],
   "source": [
    "price = container.findAll(\"div\" , {\"class\" : \"_25b18c\"})\n",
    "print(price[0].text)"
   ]
  },
  {
   "cell_type": "code",
   "execution_count": 9,
   "metadata": {},
   "outputs": [
    {
     "name": "stdout",
     "output_type": "stream",
     "text": [
      "4.740,116 Ratings & 3,779 Reviews\n"
     ]
    }
   ],
   "source": [
    "rating = container.findAll(\"div\" , {\"class\" : \"gUuXy-\"})\n",
    "print(rating[0].text)\n"
   ]
  },
  {
   "cell_type": "markdown",
   "metadata": {},
   "source": [
    "# Transformation"
   ]
  },
  {
   "cell_type": "markdown",
   "metadata": {},
   "source": [
    "Saving the data under file iwatch.csv"
   ]
  },
  {
   "cell_type": "code",
   "execution_count": 10,
   "metadata": {},
   "outputs": [
    {
     "data": {
      "text/plain": [
       "21"
      ]
     },
     "execution_count": 10,
     "metadata": {},
     "output_type": "execute_result"
    }
   ],
   "source": [
    "file = \"iwatch.csv\"\n",
    "f = open(file,\"w\")\n",
    "headers = \"Model,Pricing,Rating\\n\"\n",
    "f.write(headers)"
   ]
  },
  {
   "cell_type": "code",
   "execution_count": 11,
   "metadata": {},
   "outputs": [
    {
     "name": "stdout",
     "output_type": "stream",
     "text": [
      "Product_name APPLE Watch Series 3 GPS - 42 \n",
      "Pricing 23900\n",
      "Rating 4.7\n",
      "APPLE Watch Series 3 GPS - 42 ,23900,4.7\n",
      "\n",
      "Product_name APPLE Watch Series 3 GPS - 38 \n",
      "Pricing 20900\n",
      "Rating 4.7\n",
      "APPLE Watch Series 3 GPS - 38 ,20900,4.7\n",
      "\n",
      "Product_name APPLE Watch SE GPS 44 \n",
      "Pricing 32900\n",
      "Rating 4.7\n",
      "APPLE Watch SE GPS 44 ,32900,4.7\n",
      "\n",
      "Product_name APPLE Watch SE GPS + Cellular 44 \n",
      "Pricing 36900\n",
      "Rating 4.6\n",
      "APPLE Watch SE GPS + Cellular 44 ,36900,4.6\n",
      "\n",
      "Product_name APPLE Watch SE GPS 40 \n",
      "Pricing 29900\n",
      "Rating 4.7\n",
      "APPLE Watch SE GPS 40 ,29900,4.7\n",
      "\n",
      "Product_name APPLE Watch Series 6 GPS 40 \n",
      "Pricing 40900\n",
      "Rating 4.5\n",
      "APPLE Watch Series 6 GPS 40 ,40900,4.5\n",
      "\n",
      "Product_name APPLE Watch SE GPS + Cellular 44 \n",
      "Pricing 36900\n",
      "Rating 4.6\n",
      "APPLE Watch SE GPS + Cellular 44 ,36900,4.6\n",
      "\n",
      "Product_name APPLE Watch Series 6 GPS 40 \n",
      "Pricing 40900\n",
      "Rating 4.5\n",
      "APPLE Watch Series 6 GPS 40 ,40900,4.5\n",
      "\n",
      "Product_name APPLE Watch Series 3 GPS - 38 \n",
      "Pricing 20900\n",
      "Rating 4.7\n",
      "APPLE Watch Series 3 GPS - 38 ,20900,4.7\n",
      "\n",
      "Product_name APPLE Watch SE GPS 40 \n",
      "Pricing 29900\n",
      "Rating 4.7\n",
      "APPLE Watch SE GPS 40 ,29900,4.7\n",
      "\n",
      "Product_name APPLE Watch Series 6 GPS 44 \n",
      "Pricing 43900\n",
      "Rating 4.5\n",
      "APPLE Watch Series 6 GPS 44 ,43900,4.5\n",
      "\n",
      "Product_name APPLE Watch SE GPS 44 \n",
      "Pricing 32900\n",
      "Rating 4.7\n",
      "APPLE Watch SE GPS 44 ,32900,4.7\n",
      "\n",
      "Product_name APPLE Watch SE GPS + Cellular 40 \n",
      "Pricing 33900\n",
      "Rating 4.6\n",
      "APPLE Watch SE GPS + Cellular 40 ,33900,4.6\n",
      "\n",
      "Product_name APPLE Watch Series 3 42 \n",
      "Pricing 23900\n",
      "Rating 4.7\n",
      "APPLE Watch Series 3 42 ,23900,4.7\n",
      "\n",
      "Product_name APPLE Watch Series 6 GPS 40 \n",
      "Pricing 40900\n",
      "Rating 4.5\n",
      "APPLE Watch Series 6 GPS 40 ,40900,4.5\n",
      "\n",
      "Product_name APPLE Watch Series 6 GPS + Cellular 44 \n",
      "Pricing 52900\n",
      "Rating 4.5\n",
      "APPLE Watch Series 6 GPS + Cellular 44 ,52900,4.5\n",
      "\n",
      "Product_name APPLE Watch Series 6 GPS 44 \n",
      "Pricing 43900\n",
      "Rating 4.5\n",
      "APPLE Watch Series 6 GPS 44 ,43900,4.5\n",
      "\n",
      "Product_name APPLE Watch Series 6 GPS + Cellular 40 \n",
      "Pricing 49900\n",
      "Rating 4.5\n",
      "APPLE Watch Series 6 GPS + Cellular 40 ,49900,4.5\n",
      "\n",
      "Product_name APPLE Watch Series 6 GPS + Cellular 44 \n",
      "Pricing 77900\n",
      "Rating 4.7\n",
      "APPLE Watch Series 6 GPS + Cellular 44 ,77900,4.7\n",
      "\n",
      "Product_name APPLE Watch Series 6 GPS + Cellular 44 \n",
      "Pricing 73900\n",
      "Rating 4.7\n",
      "APPLE Watch Series 6 GPS + Cellular 44 ,73900,4.7\n",
      "\n",
      "Product_name APPLE Watch Series 6 GPS + Cellular 44 \n",
      "Pricing 52900\n",
      "Rating 4.5\n",
      "APPLE Watch Series 6 GPS + Cellular 44 ,52900,4.5\n",
      "\n",
      "Product_name APPLE Watch Series 6 GPS + Cellular 40 \n",
      "Pricing 49900\n",
      "Rating 4.5\n",
      "APPLE Watch Series 6 GPS + Cellular 40 ,49900,4.5\n",
      "\n",
      "Product_name APPLE Watch SE GPS + Cellular 40 \n",
      "Pricing 33900\n",
      "Rating 4.6\n",
      "APPLE Watch SE GPS + Cellular 40 ,33900,4.6\n",
      "\n",
      "Product_name APPLE Watch SE GPS 44 \n",
      "Pricing 32900\n",
      "Rating 4.7\n",
      "APPLE Watch SE GPS 44 ,32900,4.7\n",
      "\n"
     ]
    }
   ],
   "source": [
    "for container in containers:\n",
    "    model = container.div.img[\"alt\"]\n",
    "    model = model.split(\"mm\")[0]\n",
    "    price_container = container.findAll(\"div\" , {\"class\" : \"_25b18c\"})\n",
    "    pricing = price_container[0].text.strip()\n",
    "    pricing =pricing.replace(\",\" , \"\")\n",
    "    pricing =pricing.split(\"₹\")[1]\n",
    "    rating_container = container.findAll(\"div\" , {\"class\" : \"gUuXy-\"})\n",
    "    rating = rating_container[0].text\n",
    "    rating = rating[:3]\n",
    "    print(\"Product_name \" + model)\n",
    "    print(\"Pricing \" + pricing)\n",
    "    print(\"Rating \" + rating)\n",
    "    print(model + \",\" + pricing + \",\" + rating + \"\\n\")\n",
    "    f.write(model + \",\" + pricing + \",\" + rating + \"\\n\")\n",
    "f.close()"
   ]
  },
  {
   "cell_type": "code",
   "execution_count": null,
   "metadata": {},
   "outputs": [],
   "source": []
  }
 ],
 "metadata": {
  "kernelspec": {
   "display_name": "Python 3",
   "language": "python",
   "name": "python3"
  },
  "language_info": {
   "codemirror_mode": {
    "name": "ipython",
    "version": 3
   },
   "file_extension": ".py",
   "mimetype": "text/x-python",
   "name": "python",
   "nbconvert_exporter": "python",
   "pygments_lexer": "ipython3",
   "version": "3.8.5"
  }
 },
 "nbformat": 4,
 "nbformat_minor": 4
}
